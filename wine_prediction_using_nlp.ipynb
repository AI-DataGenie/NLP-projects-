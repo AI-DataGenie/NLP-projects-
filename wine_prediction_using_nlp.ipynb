{
  "nbformat": 4,
  "nbformat_minor": 0,
  "metadata": {
    "colab": {
      "provenance": [],
      "collapsed_sections": []
    },
    "kernelspec": {
      "name": "python3",
      "display_name": "Python 3"
    },
    "language_info": {
      "name": "python"
    }
  },
  "cells": [
    {
      "cell_type": "code",
      "execution_count": null,
      "metadata": {
        "id": "w5c1UlrHXcvG"
      },
      "outputs": [],
      "source": [
        "import pandas as pd\n",
        "import numpy as np\n",
        "import matplotlib.pyplot as plt\n",
        "import seaborn as sns\n",
        "from sklearn.feature_extraction import text\n",
        "from sklearn.feature_extraction.text import TfidfVectorizer\n",
        "from sklearn.cluster import KMeans\n",
        "import nltk\n",
        "from nltk.tokenize import RegexpTokenizer\n",
        "from nltk.stem.snowball import SnowballStemmer\n",
        "%matplotlib inline"
      ]
    },
    {
      "cell_type": "code",
      "source": [
        "df=pd.read_csv('/content/Assignment Data.csv')"
      ],
      "metadata": {
        "id": "6DqNZct5YB-_"
      },
      "execution_count": null,
      "outputs": []
    },
    {
      "cell_type": "code",
      "source": [
        "df=df[['description','variety']]\n",
        "df"
      ],
      "metadata": {
        "colab": {
          "base_uri": "https://localhost:8080/",
          "height": 424
        },
        "id": "HAARcOc_YI1F",
        "outputId": "fbc15eb3-9173-4901-d9a1-d43a0b7f19a1"
      },
      "execution_count": null,
      "outputs": [
        {
          "output_type": "execute_result",
          "data": {
            "text/plain": [
              "                                              description         variety\n",
              "0       Aromas include tropical fruit, broom, brimston...     White Blend\n",
              "1       This is ripe and fruity, a wine that is smooth...  Portuguese Red\n",
              "2       Tart and snappy, the flavors of lime flesh and...      Pinot Gris\n",
              "3       Pineapple rind, lemon pith and orange blossom ...        Riesling\n",
              "4       Much like the regular bottling from 2012, this...      Pinot Noir\n",
              "...                                                   ...             ...\n",
              "129966  Notes of honeysuckle and cantaloupe sweeten th...        Riesling\n",
              "129967  Citation is given as much as a decade of bottl...      Pinot Noir\n",
              "129968  Well-drained gravel soil gives this wine its c...  Gewürztraminer\n",
              "129969  A dry style of Pinot Gris, this is crisp with ...      Pinot Gris\n",
              "129970  Big, rich and off-dry, this is powered by inte...  Gewürztraminer\n",
              "\n",
              "[119955 rows x 2 columns]"
            ],
            "text/html": [
              "\n",
              "  <div id=\"df-934ba3f4-4f49-4174-afb9-8571137d54d2\">\n",
              "    <div class=\"colab-df-container\">\n",
              "      <div>\n",
              "<style scoped>\n",
              "    .dataframe tbody tr th:only-of-type {\n",
              "        vertical-align: middle;\n",
              "    }\n",
              "\n",
              "    .dataframe tbody tr th {\n",
              "        vertical-align: top;\n",
              "    }\n",
              "\n",
              "    .dataframe thead th {\n",
              "        text-align: right;\n",
              "    }\n",
              "</style>\n",
              "<table border=\"1\" class=\"dataframe\">\n",
              "  <thead>\n",
              "    <tr style=\"text-align: right;\">\n",
              "      <th></th>\n",
              "      <th>description</th>\n",
              "      <th>variety</th>\n",
              "    </tr>\n",
              "  </thead>\n",
              "  <tbody>\n",
              "    <tr>\n",
              "      <th>0</th>\n",
              "      <td>Aromas include tropical fruit, broom, brimston...</td>\n",
              "      <td>White Blend</td>\n",
              "    </tr>\n",
              "    <tr>\n",
              "      <th>1</th>\n",
              "      <td>This is ripe and fruity, a wine that is smooth...</td>\n",
              "      <td>Portuguese Red</td>\n",
              "    </tr>\n",
              "    <tr>\n",
              "      <th>2</th>\n",
              "      <td>Tart and snappy, the flavors of lime flesh and...</td>\n",
              "      <td>Pinot Gris</td>\n",
              "    </tr>\n",
              "    <tr>\n",
              "      <th>3</th>\n",
              "      <td>Pineapple rind, lemon pith and orange blossom ...</td>\n",
              "      <td>Riesling</td>\n",
              "    </tr>\n",
              "    <tr>\n",
              "      <th>4</th>\n",
              "      <td>Much like the regular bottling from 2012, this...</td>\n",
              "      <td>Pinot Noir</td>\n",
              "    </tr>\n",
              "    <tr>\n",
              "      <th>...</th>\n",
              "      <td>...</td>\n",
              "      <td>...</td>\n",
              "    </tr>\n",
              "    <tr>\n",
              "      <th>129966</th>\n",
              "      <td>Notes of honeysuckle and cantaloupe sweeten th...</td>\n",
              "      <td>Riesling</td>\n",
              "    </tr>\n",
              "    <tr>\n",
              "      <th>129967</th>\n",
              "      <td>Citation is given as much as a decade of bottl...</td>\n",
              "      <td>Pinot Noir</td>\n",
              "    </tr>\n",
              "    <tr>\n",
              "      <th>129968</th>\n",
              "      <td>Well-drained gravel soil gives this wine its c...</td>\n",
              "      <td>Gewürztraminer</td>\n",
              "    </tr>\n",
              "    <tr>\n",
              "      <th>129969</th>\n",
              "      <td>A dry style of Pinot Gris, this is crisp with ...</td>\n",
              "      <td>Pinot Gris</td>\n",
              "    </tr>\n",
              "    <tr>\n",
              "      <th>129970</th>\n",
              "      <td>Big, rich and off-dry, this is powered by inte...</td>\n",
              "      <td>Gewürztraminer</td>\n",
              "    </tr>\n",
              "  </tbody>\n",
              "</table>\n",
              "<p>119955 rows × 2 columns</p>\n",
              "</div>\n",
              "      <button class=\"colab-df-convert\" onclick=\"convertToInteractive('df-934ba3f4-4f49-4174-afb9-8571137d54d2')\"\n",
              "              title=\"Convert this dataframe to an interactive table.\"\n",
              "              style=\"display:none;\">\n",
              "        \n",
              "  <svg xmlns=\"http://www.w3.org/2000/svg\" height=\"24px\"viewBox=\"0 0 24 24\"\n",
              "       width=\"24px\">\n",
              "    <path d=\"M0 0h24v24H0V0z\" fill=\"none\"/>\n",
              "    <path d=\"M18.56 5.44l.94 2.06.94-2.06 2.06-.94-2.06-.94-.94-2.06-.94 2.06-2.06.94zm-11 1L8.5 8.5l.94-2.06 2.06-.94-2.06-.94L8.5 2.5l-.94 2.06-2.06.94zm10 10l.94 2.06.94-2.06 2.06-.94-2.06-.94-.94-2.06-.94 2.06-2.06.94z\"/><path d=\"M17.41 7.96l-1.37-1.37c-.4-.4-.92-.59-1.43-.59-.52 0-1.04.2-1.43.59L10.3 9.45l-7.72 7.72c-.78.78-.78 2.05 0 2.83L4 21.41c.39.39.9.59 1.41.59.51 0 1.02-.2 1.41-.59l7.78-7.78 2.81-2.81c.8-.78.8-2.07 0-2.86zM5.41 20L4 18.59l7.72-7.72 1.47 1.35L5.41 20z\"/>\n",
              "  </svg>\n",
              "      </button>\n",
              "      \n",
              "  <style>\n",
              "    .colab-df-container {\n",
              "      display:flex;\n",
              "      flex-wrap:wrap;\n",
              "      gap: 12px;\n",
              "    }\n",
              "\n",
              "    .colab-df-convert {\n",
              "      background-color: #E8F0FE;\n",
              "      border: none;\n",
              "      border-radius: 50%;\n",
              "      cursor: pointer;\n",
              "      display: none;\n",
              "      fill: #1967D2;\n",
              "      height: 32px;\n",
              "      padding: 0 0 0 0;\n",
              "      width: 32px;\n",
              "    }\n",
              "\n",
              "    .colab-df-convert:hover {\n",
              "      background-color: #E2EBFA;\n",
              "      box-shadow: 0px 1px 2px rgba(60, 64, 67, 0.3), 0px 1px 3px 1px rgba(60, 64, 67, 0.15);\n",
              "      fill: #174EA6;\n",
              "    }\n",
              "\n",
              "    [theme=dark] .colab-df-convert {\n",
              "      background-color: #3B4455;\n",
              "      fill: #D2E3FC;\n",
              "    }\n",
              "\n",
              "    [theme=dark] .colab-df-convert:hover {\n",
              "      background-color: #434B5C;\n",
              "      box-shadow: 0px 1px 3px 1px rgba(0, 0, 0, 0.15);\n",
              "      filter: drop-shadow(0px 1px 2px rgba(0, 0, 0, 0.3));\n",
              "      fill: #FFFFFF;\n",
              "    }\n",
              "  </style>\n",
              "\n",
              "      <script>\n",
              "        const buttonEl =\n",
              "          document.querySelector('#df-934ba3f4-4f49-4174-afb9-8571137d54d2 button.colab-df-convert');\n",
              "        buttonEl.style.display =\n",
              "          google.colab.kernel.accessAllowed ? 'block' : 'none';\n",
              "\n",
              "        async function convertToInteractive(key) {\n",
              "          const element = document.querySelector('#df-934ba3f4-4f49-4174-afb9-8571137d54d2');\n",
              "          const dataTable =\n",
              "            await google.colab.kernel.invokeFunction('convertToInteractive',\n",
              "                                                     [key], {});\n",
              "          if (!dataTable) return;\n",
              "\n",
              "          const docLinkHtml = 'Like what you see? Visit the ' +\n",
              "            '<a target=\"_blank\" href=https://colab.research.google.com/notebooks/data_table.ipynb>data table notebook</a>'\n",
              "            + ' to learn more about interactive tables.';\n",
              "          element.innerHTML = '';\n",
              "          dataTable['output_type'] = 'display_data';\n",
              "          await google.colab.output.renderOutput(dataTable, element);\n",
              "          const docLink = document.createElement('div');\n",
              "          docLink.innerHTML = docLinkHtml;\n",
              "          element.appendChild(docLink);\n",
              "        }\n",
              "      </script>\n",
              "    </div>\n",
              "  </div>\n",
              "  "
            ]
          },
          "metadata": {},
          "execution_count": 117
        }
      ]
    },
    {
      "cell_type": "markdown",
      "source": [
        "**exploratory data analysis**\n",
        "\n",
        "1.   checking for missing values \n",
        "2.   drop missing values\n",
        "\n",
        "\n",
        "\n"
      ],
      "metadata": {
        "id": "PnPzvrdXYnOk"
      }
    },
    {
      "cell_type": "code",
      "source": [
        "df.isnull().sum()"
      ],
      "metadata": {
        "colab": {
          "base_uri": "https://localhost:8080/"
        },
        "id": "0Pf5-IIYYSP_",
        "outputId": "826bc21d-1cf8-4b25-8aa7-695d71fe7ce9"
      },
      "execution_count": null,
      "outputs": [
        {
          "output_type": "execute_result",
          "data": {
            "text/plain": [
              "description    0\n",
              "variety        1\n",
              "dtype: int64"
            ]
          },
          "metadata": {},
          "execution_count": 118
        }
      ]
    },
    {
      "cell_type": "markdown",
      "source": [
        "conclusion:\n",
        "we have no missing values in description and variety ,our main work is with these two columns\n"
      ],
      "metadata": {
        "id": "omydDlRFZpLe"
      }
    },
    {
      "cell_type": "markdown",
      "source": [
        "check for duplicate values in description column\n",
        "\n",
        "*   eliminate duplicated description\n",
        "\n"
      ],
      "metadata": {
        "id": "VhrXrrSdakLw"
      }
    },
    {
      "cell_type": "code",
      "source": [
        "df[df['description'].duplicated(keep=False)].sort_values('description').head()"
      ],
      "metadata": {
        "colab": {
          "base_uri": "https://localhost:8080/",
          "height": 49
        },
        "id": "yLB6FuAWZRfa",
        "outputId": "b2e2545c-f570-4a7b-ba16-918018cfb84e"
      },
      "execution_count": null,
      "outputs": [
        {
          "output_type": "execute_result",
          "data": {
            "text/plain": [
              "Empty DataFrame\n",
              "Columns: [description, variety]\n",
              "Index: []"
            ],
            "text/html": [
              "\n",
              "  <div id=\"df-42f13389-36dd-4ea2-8a02-a0f27232f566\">\n",
              "    <div class=\"colab-df-container\">\n",
              "      <div>\n",
              "<style scoped>\n",
              "    .dataframe tbody tr th:only-of-type {\n",
              "        vertical-align: middle;\n",
              "    }\n",
              "\n",
              "    .dataframe tbody tr th {\n",
              "        vertical-align: top;\n",
              "    }\n",
              "\n",
              "    .dataframe thead th {\n",
              "        text-align: right;\n",
              "    }\n",
              "</style>\n",
              "<table border=\"1\" class=\"dataframe\">\n",
              "  <thead>\n",
              "    <tr style=\"text-align: right;\">\n",
              "      <th></th>\n",
              "      <th>description</th>\n",
              "      <th>variety</th>\n",
              "    </tr>\n",
              "  </thead>\n",
              "  <tbody>\n",
              "  </tbody>\n",
              "</table>\n",
              "</div>\n",
              "      <button class=\"colab-df-convert\" onclick=\"convertToInteractive('df-42f13389-36dd-4ea2-8a02-a0f27232f566')\"\n",
              "              title=\"Convert this dataframe to an interactive table.\"\n",
              "              style=\"display:none;\">\n",
              "        \n",
              "  <svg xmlns=\"http://www.w3.org/2000/svg\" height=\"24px\"viewBox=\"0 0 24 24\"\n",
              "       width=\"24px\">\n",
              "    <path d=\"M0 0h24v24H0V0z\" fill=\"none\"/>\n",
              "    <path d=\"M18.56 5.44l.94 2.06.94-2.06 2.06-.94-2.06-.94-.94-2.06-.94 2.06-2.06.94zm-11 1L8.5 8.5l.94-2.06 2.06-.94-2.06-.94L8.5 2.5l-.94 2.06-2.06.94zm10 10l.94 2.06.94-2.06 2.06-.94-2.06-.94-.94-2.06-.94 2.06-2.06.94z\"/><path d=\"M17.41 7.96l-1.37-1.37c-.4-.4-.92-.59-1.43-.59-.52 0-1.04.2-1.43.59L10.3 9.45l-7.72 7.72c-.78.78-.78 2.05 0 2.83L4 21.41c.39.39.9.59 1.41.59.51 0 1.02-.2 1.41-.59l7.78-7.78 2.81-2.81c.8-.78.8-2.07 0-2.86zM5.41 20L4 18.59l7.72-7.72 1.47 1.35L5.41 20z\"/>\n",
              "  </svg>\n",
              "      </button>\n",
              "      \n",
              "  <style>\n",
              "    .colab-df-container {\n",
              "      display:flex;\n",
              "      flex-wrap:wrap;\n",
              "      gap: 12px;\n",
              "    }\n",
              "\n",
              "    .colab-df-convert {\n",
              "      background-color: #E8F0FE;\n",
              "      border: none;\n",
              "      border-radius: 50%;\n",
              "      cursor: pointer;\n",
              "      display: none;\n",
              "      fill: #1967D2;\n",
              "      height: 32px;\n",
              "      padding: 0 0 0 0;\n",
              "      width: 32px;\n",
              "    }\n",
              "\n",
              "    .colab-df-convert:hover {\n",
              "      background-color: #E2EBFA;\n",
              "      box-shadow: 0px 1px 2px rgba(60, 64, 67, 0.3), 0px 1px 3px 1px rgba(60, 64, 67, 0.15);\n",
              "      fill: #174EA6;\n",
              "    }\n",
              "\n",
              "    [theme=dark] .colab-df-convert {\n",
              "      background-color: #3B4455;\n",
              "      fill: #D2E3FC;\n",
              "    }\n",
              "\n",
              "    [theme=dark] .colab-df-convert:hover {\n",
              "      background-color: #434B5C;\n",
              "      box-shadow: 0px 1px 3px 1px rgba(0, 0, 0, 0.15);\n",
              "      filter: drop-shadow(0px 1px 2px rgba(0, 0, 0, 0.3));\n",
              "      fill: #FFFFFF;\n",
              "    }\n",
              "  </style>\n",
              "\n",
              "      <script>\n",
              "        const buttonEl =\n",
              "          document.querySelector('#df-42f13389-36dd-4ea2-8a02-a0f27232f566 button.colab-df-convert');\n",
              "        buttonEl.style.display =\n",
              "          google.colab.kernel.accessAllowed ? 'block' : 'none';\n",
              "\n",
              "        async function convertToInteractive(key) {\n",
              "          const element = document.querySelector('#df-42f13389-36dd-4ea2-8a02-a0f27232f566');\n",
              "          const dataTable =\n",
              "            await google.colab.kernel.invokeFunction('convertToInteractive',\n",
              "                                                     [key], {});\n",
              "          if (!dataTable) return;\n",
              "\n",
              "          const docLinkHtml = 'Like what you see? Visit the ' +\n",
              "            '<a target=\"_blank\" href=https://colab.research.google.com/notebooks/data_table.ipynb>data table notebook</a>'\n",
              "            + ' to learn more about interactive tables.';\n",
              "          element.innerHTML = '';\n",
              "          dataTable['output_type'] = 'display_data';\n",
              "          await google.colab.output.renderOutput(dataTable, element);\n",
              "          const docLink = document.createElement('div');\n",
              "          docLink.innerHTML = docLinkHtml;\n",
              "          element.appendChild(docLink);\n",
              "        }\n",
              "      </script>\n",
              "    </div>\n",
              "  </div>\n",
              "  "
            ]
          },
          "metadata": {},
          "execution_count": 119
        }
      ]
    },
    {
      "cell_type": "code",
      "source": [
        "df=df.drop_duplicates('description')"
      ],
      "metadata": {
        "id": "C3DOg7yZbU-X"
      },
      "execution_count": null,
      "outputs": []
    },
    {
      "cell_type": "markdown",
      "source": [
        "as there is many variety of wines and we intend to apply kmeans clustering so we need to narrow down the variety to have in any clusters.we are using only those varieties which occur more than 3000 times .\n",
        " \n",
        " so we have only 9 varieties left ."
      ],
      "metadata": {
        "id": "yRRm4MNNe7tu"
      }
    },
    {
      "cell_type": "code",
      "source": [
        "df['variety'].value_counts()"
      ],
      "metadata": {
        "colab": {
          "base_uri": "https://localhost:8080/"
        },
        "id": "Wk-Vio_7fYeX",
        "outputId": "5ead318b-2215-4040-b7eb-c53c8af5ac79"
      },
      "execution_count": null,
      "outputs": [
        {
          "output_type": "execute_result",
          "data": {
            "text/plain": [
              "Pinot Noir                    12277\n",
              "Chardonnay                    10867\n",
              "Cabernet Sauvignon             8837\n",
              "Red Blend                      8239\n",
              "Bordeaux-style Red Blend       6469\n",
              "                              ...  \n",
              "Cabernet Sauvignon-Barbera        1\n",
              "Merlot-Shiraz                     1\n",
              "Folle Blanche                     1\n",
              "Forcallà                          1\n",
              "Bobal-Cabernet Sauvignon          1\n",
              "Name: variety, Length: 707, dtype: int64"
            ]
          },
          "metadata": {},
          "execution_count": 121
        }
      ]
    },
    {
      "cell_type": "code",
      "source": [
        "variety_df = df.groupby('variety').filter(lambda x: len(x) > 3000)\n",
        "varieties = variety_df['variety'].value_counts().index.tolist()\n",
        "fig, ax = plt.subplots(figsize = (25, 10))\n",
        "sns.countplot(x = variety_df['variety'], order = varieties, ax = ax)\n",
        "plt.xticks(rotation = 90)\n",
        "plt.show()"
      ],
      "metadata": {
        "colab": {
          "base_uri": "https://localhost:8080/",
          "height": 474
        },
        "id": "v5xOtHWWcafE",
        "outputId": "6ee85a9a-fcee-4096-b4b3-8e7e1a104a4f"
      },
      "execution_count": null,
      "outputs": [
        {
          "output_type": "display_data",
          "data": {
            "text/plain": [
              "<Figure size 1800x720 with 1 Axes>"
            ],
            "image/png": "[encoded data removed]"
          },
          "metadata": {
            "needs_background": "light"
          }
        }
      ]
    },
    {
      "cell_type": "code",
      "source": [
        "variety_df['variety'].unique()"
      ],
      "metadata": {
        "colab": {
          "base_uri": "https://localhost:8080/"
        },
        "id": "Nvlow6TMc9CL",
        "outputId": "a9800f7f-4ee9-47ef-fd50-883693c8bb54"
      },
      "execution_count": null,
      "outputs": [
        {
          "output_type": "execute_result",
          "data": {
            "text/plain": [
              "array(['Riesling', 'Pinot Noir', 'Cabernet Sauvignon', 'Chardonnay',\n",
              "       'Red Blend', 'Sauvignon Blanc', 'Bordeaux-style Red Blend', 'Rosé',\n",
              "       'Syrah'], dtype=object)"
            ]
          },
          "metadata": {},
          "execution_count": 123
        }
      ]
    },
    {
      "cell_type": "markdown",
      "source": [
        "**Natural language processing **  \n",
        "stopwords(the ,is etc words which do not give meaning to the prediction but use for grammer)  \n",
        "tokenization(removing of punctuation from the description column)  \n",
        "vectors  \n",
        "stemming(reduce words to their root form)\n",
        "\n",
        "\n"
      ],
      "metadata": {
        "id": "6UtLspIwhP7M"
      }
    },
    {
      "cell_type": "code",
      "source": [
        "punc = ['.', ',', '\"', \"'\", '?', '!', ':', ';', '(', ')', '[', ']', '{', '}',\"%\"]\n",
        "stop_words = text.ENGLISH_STOP_WORDS.union(punc)\n",
        "desc = variety_df['description'].values\n",
        "#we are using sklearn library to form vectors :\n",
        "vectorizer = TfidfVectorizer(stop_words = stop_words)\n",
        "X = vectorizer.fit_transform(desc)"
      ],
      "metadata": {
        "id": "7VmNmI-ldIxf"
      },
      "execution_count": null,
      "outputs": []
    },
    {
      "cell_type": "code",
      "source": [
        "word_features = vectorizer.get_feature_names()"
      ],
      "metadata": {
        "colab": {
          "base_uri": "https://localhost:8080/"
        },
        "id": "PILopTVGhtL1",
        "outputId": "06a5dc8a-234d-4ded-93fa-31ab4051a3bf"
      },
      "execution_count": null,
      "outputs": [
        {
          "output_type": "stream",
          "name": "stderr",
          "text": [
            "/usr/local/lib/python3.7/dist-packages/sklearn/utils/deprecation.py:87: FutureWarning: Function get_feature_names is deprecated; get_feature_names is deprecated in 1.0 and will be removed in 1.2. Please use get_feature_names_out instead.\n",
            "  warnings.warn(msg, category=FutureWarning)\n"
          ]
        }
      ]
    },
    {
      "cell_type": "code",
      "source": [
        "stemmer = SnowballStemmer('english')\n",
        "tokenizer = RegexpTokenizer(r'[a-zA-Z\\']+')\n",
        "\n",
        "def tokenize(text):\n",
        "    return [stemmer.stem(word) for word in tokenizer.tokenize(text.lower())]"
      ],
      "metadata": {
        "id": "oHdKYupjiHcC"
      },
      "execution_count": null,
      "outputs": []
    },
    {
      "cell_type": "code",
      "source": [
        "vectorizer2 = TfidfVectorizer(stop_words = stop_words, tokenizer = tokenize)\n",
        "X2 = vectorizer2.fit_transform(desc)\n",
        "word_features2 = vectorizer2.get_feature_names()\n",
        "word_features2[:50]"
      ],
      "metadata": {
        "colab": {
          "base_uri": "https://localhost:8080/"
        },
        "id": "tAlgk5IjiQQ2",
        "outputId": "543d87f9-8bc1-4ba3-fdff-4c8e6026d309"
      },
      "execution_count": null,
      "outputs": [
        {
          "output_type": "stream",
          "name": "stderr",
          "text": [
            "/usr/local/lib/python3.7/dist-packages/sklearn/feature_extraction/text.py:401: UserWarning: Your stop_words may be inconsistent with your preprocessing. Tokenizing the stop words generated tokens ['abov', 'afterward', 'alon', 'alreadi', 'alway', 'ani', 'anoth', 'anyon', 'anyth', 'anywher', 'becam', 'becaus', 'becom', 'befor', 'besid', 'cri', 'describ', 'dure', 'els', 'elsewher', 'empti', 'everi', 'everyon', 'everyth', 'everywher', 'fifti', 'forti', 'henc', 'hereaft', 'herebi', 'howev', 'hundr', 'inde', 'mani', 'meanwhil', 'moreov', 'nobodi', 'noon', 'noth', 'nowher', 'onc', 'onli', 'otherwis', 'ourselv', 'perhap', 'pleas', 'sever', 'sinc', 'sincer', 'sixti', 'someon', 'someth', 'sometim', 'somewher', 'themselv', 'thenc', 'thereaft', 'therebi', 'therefor', 'togeth', 'twelv', 'twenti', 'veri', 'whatev', 'whenc', 'whenev', 'wherea', 'whereaft', 'wherebi', 'wherev', 'whi', 'yourselv'] not in stop_words.\n",
            "  % sorted(inconsistent)\n"
          ]
        },
        {
          "output_type": "execute_result",
          "data": {
            "text/plain": [
              "[\"'s\",\n",
              " \"a'\",\n",
              " \"a'plenti\",\n",
              " 'aand',\n",
              " 'aaron',\n",
              " 'abacela',\n",
              " 'abad',\n",
              " 'abadia',\n",
              " 'abandon',\n",
              " 'abat',\n",
              " 'abbey',\n",
              " 'abbot',\n",
              " 'abbott',\n",
              " 'abbrevi',\n",
              " 'abc',\n",
              " 'abeill',\n",
              " 'abeja',\n",
              " 'abel',\n",
              " 'abernathi',\n",
              " 'aberr',\n",
              " 'abetina',\n",
              " 'abey',\n",
              " 'abid',\n",
              " 'abil',\n",
              " 'abiou',\n",
              " 'abl',\n",
              " 'abli',\n",
              " 'aboard',\n",
              " 'abondant',\n",
              " 'aborigin',\n",
              " 'abound',\n",
              " 'abouriou',\n",
              " 'abov',\n",
              " 'abras',\n",
              " 'abreu',\n",
              " 'abri',\n",
              " 'abroad',\n",
              " 'abrupt',\n",
              " 'abruzzo',\n",
              " 'absberg',\n",
              " 'absenc',\n",
              " 'absent',\n",
              " 'absolut',\n",
              " 'absorb',\n",
              " 'abtsberg',\n",
              " 'abund',\n",
              " 'abus',\n",
              " 'abut',\n",
              " 'abuzz',\n",
              " 'abv']"
            ]
          },
          "metadata": {},
          "execution_count": 127
        }
      ]
    },
    {
      "cell_type": "code",
      "source": [
        "vectorizer3 = TfidfVectorizer(stop_words = stop_words, tokenizer = tokenize, max_features = 1000)\n",
        "X3 = vectorizer3.fit_transform(desc)\n",
        "words = vectorizer3.get_feature_names()"
      ],
      "metadata": {
        "id": "qAr5MV2JiVOs"
      },
      "execution_count": null,
      "outputs": []
    },
    {
      "cell_type": "markdown",
      "source": [
        "**kmeans clustering**"
      ],
      "metadata": {
        "id": "BMiI4tqLifTe"
      }
    },
    {
      "cell_type": "code",
      "source": [
        "kmeans = KMeans(n_clusters = 9, n_init = 5)\n",
        "kmeans.fit(X3)"
      ],
      "metadata": {
        "colab": {
          "base_uri": "https://localhost:8080/"
        },
        "id": "uHbEmh8EijbT",
        "outputId": "85c3e358-d791-4aa7-cc52-435bed2b93ca"
      },
      "execution_count": null,
      "outputs": [
        {
          "output_type": "execute_result",
          "data": {
            "text/plain": [
              "KMeans(n_clusters=9, n_init=5)"
            ]
          },
          "metadata": {},
          "execution_count": 129
        }
      ]
    },
    {
      "cell_type": "code",
      "source": [
        "common_words = kmeans.cluster_centers_.argsort()[:,-1:-11:-1]\n",
        "for num, centroid in enumerate(common_words):\n",
        "    print(str(num) + ' : ' + ', '.join(words[word] for word in centroid))"
      ],
      "metadata": {
        "colab": {
          "base_uri": "https://localhost:8080/"
        },
        "id": "X4ShEfwPinrN",
        "outputId": "ca2edf2e-e023-4c70-963c-e63db0e5cf05"
      },
      "execution_count": null,
      "outputs": [
        {
          "output_type": "stream",
          "name": "stdout",
          "text": [
            "0 : flavor, fruit, wine, finish, cherri, aroma, berri, red, palat, note\n",
            "1 : cabernet, sauvignon, merlot, blend, franc, petit, verdot, malbec, black, cherri\n",
            "2 : chardonnay, pineappl, flavor, oak, butter, toast, vanilla, pear, appl, tropic\n",
            "3 : lemon, appl, lime, finish, palat, flavor, citrus, fresh, riesl, peach\n",
            "4 : black, cherri, palat, aroma, pepper, tannin, plum, spice, offer, alongsid\n",
            "5 : wine, fruit, age, structur, tannin, wood, ripe, rich, firm, drink\n",
            "6 : blackberri, flavor, currant, tannin, oak, cabernet, cherri, wine, rich, dri\n",
            "7 : wine, fruiti, acid, drink, crisp, fruit, attract, textur, readi, light\n",
            "8 : pinot, noir, cherri, raspberri, silki, cola, flavor, acid, drink, dri\n"
          ]
        }
      ]
    },
    {
      "cell_type": "code",
      "source": [
        "variety_df['cluster'] = kmeans.labels_"
      ],
      "metadata": {
        "id": "9Rpf3o8di_J3"
      },
      "execution_count": null,
      "outputs": []
    },
    {
      "cell_type": "code",
      "source": [
        "clusters = variety_df.groupby(['cluster', 'variety']).size()\n",
        "fig2, ax2 = plt.subplots(figsize = (30, 15))\n",
        "sns.heatmap(clusters.unstack(level = 'variety'), ax = ax2, cmap = 'Reds')\n",
        "\n",
        "ax2.set_xlabel('variety', fontdict = {'weight': 'bold', 'size': 24})\n",
        "ax2.set_ylabel('cluster', fontdict = {'weight': 'bold', 'size': 24})\n",
        "for label in ax2.get_xticklabels():\n",
        "    label.set_size(16)\n",
        "    label.set_weight(\"bold\")\n",
        "for label in ax2.get_yticklabels():\n",
        "    label.set_size(16)\n",
        "    label.set_weight(\"bold\")"
      ],
      "metadata": {
        "colab": {
          "base_uri": "https://localhost:8080/",
          "height": 548
        },
        "id": "P59L8ps_jHQx",
        "outputId": "0b9353f0-0ca9-4324-e4ee-4b197ec8bdab"
      },
      "execution_count": null,
      "outputs": [
        {
          "output_type": "display_data",
          "data": {
            "text/plain": [
              "<Figure size 2160x1080 with 2 Axes>"
            ],
            "image/png": "[encoded data removed]"
          },
          "metadata": {
            "needs_background": "light"
          }
        }
      ]
    },
    {
      "cell_type": "markdown",
      "source": [
        "conclusion :  \n",
        "we did not find a one to one relationship in each of the 9 varieties we should need another model ro"
      ],
      "metadata": {
        "id": "Xn0bqIU9pHey"
      }
    },
    {
      "cell_type": "code",
      "source": [],
      "metadata": {
        "id": "ylMzeoE_jMb8"
      },
      "execution_count": null,
      "outputs": []
    }
  ]
}